{
 "cells": [
  {
   "cell_type": "code",
   "execution_count": null,
   "metadata": {},
   "outputs": [],
   "source": [
    "import cv2\n",
    "import numpy as np\n",
    "import pandas as pd\n",
    "import matplotlib.pyplot as plt\n",
    "import tensorflow as tf\n",
    "from multiprocessing import Pool\n",
    "import os\n",
    "\n",
    "gpus = tf.config.experimental.list_physical_devices('GPU')\n",
    "if gpus:\n",
    "  try:\n",
    "    for gpu in gpus:\n",
    "      tf.config.experimental.set_memory_growth(gpu, True)\n",
    "  except RuntimeError as e:\n",
    "    print(e)"
   ]
  },
  {
   "cell_type": "code",
   "execution_count": null,
   "metadata": {},
   "outputs": [],
   "source": [
    "colors = list()\n",
    "for _ in range(11):\n",
    "    colors.append([int(j) for j in np.random.randint(0, 255, 3)])"
   ]
  },
  {
   "cell_type": "code",
   "execution_count": null,
   "metadata": {},
   "outputs": [],
   "source": [
    "class Store():\n",
    "    def __init__(self,pos,size,text):\n",
    "        self.pos=pos\n",
    "        self.size=size\n",
    "        self.text=text\n",
    "\n",
    "def draw(img, storedVar):\n",
    "\n",
    "    for button in storedVar:\n",
    "        x, y = button.pos\n",
    "        w, h = button.size\n",
    "        cv2.rectangle(img, (x - w, y - h), (x + w, y + h), (64, 64, 64), thickness=2)\n",
    "    return img"
   ]
  },
  {
   "cell_type": "code",
   "execution_count": null,
   "metadata": {},
   "outputs": [],
   "source": [
    "StoredVar = []\n",
    "\n",
    "StoredVar.append(Store([400, 250],[35, 35],\"2\"))\n",
    "StoredVar.append(Store([880, 250],[35, 35],\"3\"))\n",
    "StoredVar.append(Store([640, 310],[100, 30],\"4\"))\n",
    "StoredVar.append(Store([490, 430],[35, 70],\"5\"))\n",
    "StoredVar.append(Store([640, 430],[40, 40],\"6\"))\n",
    "StoredVar.append(Store([790, 430],[35, 70],\"7\"))\n",
    "StoredVar.append(Store([640, 550],[100, 30],\"8\"))\n",
    "StoredVar.append(Store([400, 600],[35, 35],\"9\"))\n",
    "StoredVar.append(Store([880, 600],[35, 35],\"10\"))"
   ]
  },
  {
   "cell_type": "code",
   "execution_count": null,
   "metadata": {},
   "outputs": [],
   "source": [
    "img = np.full((960, 1280, 3), 255, np.uint8)\n",
    "img = draw(img, StoredVar)\n",
    "img2 = np.zeros_like(img)\n",
    "gray = cv2.cvtColor(img, cv2.COLOR_BGR2GRAY)\n",
    "_, th = cv2.threshold(gray, 127, 255, cv2.THRESH_BINARY)\n",
    "\n",
    "cnt, labels, stats, centroids = cv2.connectedComponentsWithStats(th)"
   ]
  },
  {
   "cell_type": "code",
   "execution_count": null,
   "metadata": {},
   "outputs": [],
   "source": [
    "for i in range(cnt):\n",
    "    img2[labels==i] = colors[i]\n",
    "    # img2[labels==i] = colors[i]\n",
    "\n",
    "plt.imshow(img2)"
   ]
  },
  {
   "cell_type": "code",
   "execution_count": null,
   "metadata": {},
   "outputs": [],
   "source": [
    "def generator_data(x):\n",
    "    test_data = pd.DataFrame(columns=['x','y'])\n",
    "    for y in range(200):\n",
    "        temp = pd.DataFrame({'x':[x], 'y':[y]})\n",
    "\n",
    "        test_data = test_data.append(temp, ignore_index=True)\n",
    "\n",
    "    return test_data"
   ]
  },
  {
   "cell_type": "code",
   "execution_count": null,
   "metadata": {},
   "outputs": [],
   "source": [
    "num_cores = os.cpu_count()\n",
    "pool = Pool(num_cores)\n",
    "a = pool.map(generator_data,range(200))"
   ]
  },
  {
   "cell_type": "code",
   "execution_count": null,
   "metadata": {},
   "outputs": [],
   "source": [
    "a"
   ]
  },
  {
   "cell_type": "code",
   "execution_count": null,
   "metadata": {},
   "outputs": [],
   "source": [
    "test_data = generator_data()"
   ]
  },
  {
   "cell_type": "code",
   "execution_count": null,
   "metadata": {},
   "outputs": [],
   "source": [
    "test_data['x'] = test_data['x']/1279\n",
    "test_data['y'] = test_data['y']/959\n",
    "test_input = tf.convert_to_tensor(test_data, dtype=tf.float64)\n",
    "pred = model.predict_classes(test_input)\n",
    "pred = tf.reshape(pred, [1280, 960]).numpy()"
   ]
  },
  {
   "cell_type": "code",
   "execution_count": null,
   "metadata": {},
   "outputs": [],
   "source": [
    "test = np.full((1280, 960, 3), 255, np.uint8)\n",
    "for y in range(960):\n",
    "    print(y)\n",
    "    for x in range(1280):\n",
    "        test[y][x] = colors[pred[x][y]]"
   ]
  },
  {
   "cell_type": "code",
   "execution_count": null,
   "metadata": {},
   "outputs": [],
   "source": [
    "test_data2 = pd.DataFrame(columns=['x','y'])\n",
    "for x in range(200):\n",
    "    for y in range(200):\n",
    "        temp = pd.DataFrame({'x':[x], 'y':[y]})\n",
    "\n",
    "        test_data2 = test_data2.append(temp, ignore_index=True)"
   ]
  },
  {
   "cell_type": "code",
   "execution_count": null,
   "metadata": {},
   "outputs": [],
   "source": [
    "test_data2['x'] = test_data2['x']/200\n",
    "test_data2['y'] = test_data2['y']/200\n",
    "test_input2 = tf.convert_to_tensor(test_data2, dtype=tf.float64)\n",
    "pred2 = model.predict_classes(test_input2)\n",
    "pred2 = tf.reshape(pred2, [200, 200]).numpy()"
   ]
  },
  {
   "cell_type": "code",
   "execution_count": null,
   "metadata": {},
   "outputs": [],
   "source": [
    "test2 = np.full((200, 200, 3), 255, np.uint8)\n",
    "for y in range(200):\n",
    "    print(y)\n",
    "    for x in range(200):\n",
    "        test2[y][x] = colors[pred2[x][y]]"
   ]
  },
  {
   "cell_type": "code",
   "execution_count": null,
   "metadata": {},
   "outputs": [],
   "source": [
    "plt.imshow(test2)"
   ]
  },
  {
   "cell_type": "code",
   "execution_count": null,
   "metadata": {},
   "outputs": [],
   "source": [
    "test_data3 = pd.DataFrame(columns=['x','y'])\n",
    "for x in range(800):\n",
    "    for y in range(600):\n",
    "        temp = pd.DataFrame({'x':[x], 'y':[y]})\n",
    "\n",
    "        test_data3 = test_data3.append(temp, ignore_index=True)"
   ]
  },
  {
   "cell_type": "code",
   "execution_count": null,
   "metadata": {},
   "outputs": [],
   "source": [
    "test_data3['x'] = test_data3['x']/800\n",
    "test_data3['y'] = test_data3['y']/600\n",
    "test_input3 = tf.convert_to_tensor(test_data3, dtype=tf.float64)"
   ]
  },
  {
   "cell_type": "code",
   "execution_count": null,
   "metadata": {},
   "outputs": [],
   "source": [
    "pred3 = model.predict_classes(test_input3)"
   ]
  },
  {
   "cell_type": "code",
   "execution_count": null,
   "metadata": {},
   "outputs": [],
   "source": [
    "pred3 = tf.reshape(pred3, [800, 600]).numpy()"
   ]
  },
  {
   "cell_type": "code",
   "execution_count": null,
   "metadata": {},
   "outputs": [],
   "source": [
    "test3 = np.full((600, 800, 3), 255, np.uint8)\n",
    "for y in range(600):\n",
    "    print(y)\n",
    "    for x in range(800):\n",
    "        test3[y][x] = colors[pred3[x][y]]"
   ]
  },
  {
   "cell_type": "code",
   "execution_count": null,
   "metadata": {},
   "outputs": [],
   "source": [
    "plt.imshow(test3)"
   ]
  }
 ],
 "metadata": {
  "kernelspec": {
   "display_name": "Python 3.7.11 ('tensor')",
   "language": "python",
   "name": "python3"
  },
  "language_info": {
   "codemirror_mode": {
    "name": "ipython",
    "version": 3
   },
   "file_extension": ".py",
   "mimetype": "text/x-python",
   "name": "python",
   "nbconvert_exporter": "python",
   "pygments_lexer": "ipython3",
   "version": "3.7.11"
  },
  "vscode": {
   "interpreter": {
    "hash": "4a399d4c4514d125852f3bc51ca0a6706781da022d47c4cd91c80cf905a19a6d"
   }
  }
 },
 "nbformat": 4,
 "nbformat_minor": 2
}
